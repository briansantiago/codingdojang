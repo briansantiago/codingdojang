{
 "cells": [
  {
   "cell_type": "code",
   "execution_count": 9,
   "metadata": {
    "collapsed": false
   },
   "outputs": [],
   "source": [
    "def excoding(m, n):\n",
    "    result = []\n",
    "    a = 1\n",
    "    \n",
    "    for i in range(m, n+1):\n",
    "        if len(str(i)) == 1:\n",
    "            result.append(i)\n",
    "        else:\n",
    "            for j in range(len(str(i))):\n",
    "                a *= int(str(i)[j])\n",
    "                result.append(a)\n",
    "                \n",
    "    return sum(result)"
   ]
  },
  {
   "cell_type": "code",
   "execution_count": 10,
   "metadata": {
    "collapsed": false
   },
   "outputs": [
    {
     "data": {
      "text/plain": [
       "1"
      ]
     },
     "execution_count": 10,
     "metadata": {},
     "output_type": "execute_result"
    }
   ],
   "source": [
    "excoding(10, 1000)"
   ]
  },
  {
   "cell_type": "code",
   "execution_count": 11,
   "metadata": {
    "collapsed": false
   },
   "outputs": [
    {
     "data": {
      "text/plain": [
       "277425"
      ]
     },
     "execution_count": 11,
     "metadata": {},
     "output_type": "execute_result"
    }
   ],
   "source": [
    "result = []\n",
    "\n",
    "for i in range(10, 1001):\n",
    "    for j in range(len(str(i))):\n",
    "        if len(str(i)) == 2:\n",
    "            mul1 = int(str(i)[j-1]) * int(str(i)[j-2])\n",
    "            result.append(mul1)\n",
    "        else:\n",
    "            mul2 = int(str(i)[j-1]) * int(str(i)[j-2]) * int(str(i)[j-3])   \n",
    "            result.append(mul2)\n",
    "            \n",
    "sum(result)\n"
   ]
  },
  {
   "cell_type": "code",
   "execution_count": null,
   "metadata": {
    "collapsed": true
   },
   "outputs": [],
   "source": []
  }
 ],
 "metadata": {
  "kernelspec": {
   "display_name": "Python 3",
   "language": "python",
   "name": "python3"
  },
  "language_info": {
   "codemirror_mode": {
    "name": "ipython",
    "version": 3
   },
   "file_extension": ".py",
   "mimetype": "text/x-python",
   "name": "python",
   "nbconvert_exporter": "python",
   "pygments_lexer": "ipython3",
   "version": "3.5.2"
  }
 },
 "nbformat": 4,
 "nbformat_minor": 1
}
