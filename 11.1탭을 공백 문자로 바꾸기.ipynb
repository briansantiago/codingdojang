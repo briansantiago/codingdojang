{
 "cells": [
  {
   "cell_type": "code",
   "execution_count": 46,
   "metadata": {
    "collapsed": false
   },
   "outputs": [],
   "source": [
    "def test(m, n):\n",
    "    import pandas as pd\n",
    "    \n",
    "    if m == 0:\n",
    "        data = {'m': [m], 'n': [n], '출력':[0]}\n",
    "    elif m < n:\n",
    "        data = {'m': [m], 'n': [n], '출력':[1]}\n",
    "    elif m % n == 0:\n",
    "        data = {'m': [m], 'n': [n], '출력':[m // n]}\n",
    "    else:\n",
    "        data = {'m': [m], 'n': [n], '출력':[m // n + 1]}\n",
    "    \n",
    "    df = pd.DataFrame(data)\n",
    "    return df\n",
    "    "
   ]
  },
  {
   "cell_type": "code",
   "execution_count": 57,
   "metadata": {
    "collapsed": false
   },
   "outputs": [
    {
     "name": "stdout",
     "output_type": "stream",
     "text": [
      "   m   n  출력\n",
      "0  0  10   0\n",
      "   m   n  출력\n",
      "0  1  10   1\n",
      "   m   n  출력\n",
      "0  2  10   1\n",
      "   m   n  출력\n",
      "0  3  10   1\n",
      "   m   n  출력\n",
      "0  4  10   1\n",
      "   m   n  출력\n",
      "0  5  10   1\n",
      "   m   n  출력\n",
      "0  6  10   1\n",
      "   m   n  출력\n",
      "0  7  10   1\n",
      "   m   n  출력\n",
      "0  8  10   1\n",
      "   m   n  출력\n",
      "0  9  10   1\n",
      "    m   n  출력\n",
      "0  10  10   1\n"
     ]
    }
   ],
   "source": [
    "for i in range(11):\n",
    "    print(test(i, 10))"
   ]
  },
  {
   "cell_type": "code",
   "execution_count": 45,
   "metadata": {
    "collapsed": false
   },
   "outputs": [
    {
     "data": {
      "text/plain": [
       "0"
      ]
     },
     "execution_count": 45,
     "metadata": {},
     "output_type": "execute_result"
    }
   ],
   "source": [
    "20 % 10"
   ]
  },
  {
   "cell_type": "code",
   "execution_count": null,
   "metadata": {
    "collapsed": true
   },
   "outputs": [],
   "source": []
  }
 ],
 "metadata": {
  "kernelspec": {
   "display_name": "Python 3",
   "language": "python",
   "name": "python3"
  },
  "language_info": {
   "codemirror_mode": {
    "name": "ipython",
    "version": 3
   },
   "file_extension": ".py",
   "mimetype": "text/x-python",
   "name": "python",
   "nbconvert_exporter": "python",
   "pygments_lexer": "ipython3",
   "version": "3.5.2"
  }
 },
 "nbformat": 4,
 "nbformat_minor": 1
}
