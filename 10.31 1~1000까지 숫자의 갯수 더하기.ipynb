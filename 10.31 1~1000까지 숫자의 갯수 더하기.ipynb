{
 "cells": [
  {
   "cell_type": "code",
   "execution_count": 38,
   "metadata": {
    "collapsed": false,
    "scrolled": true
   },
   "outputs": [
    {
     "name": "stdout",
     "output_type": "stream",
     "text": [
      "what do you want to know?1000\n",
      "0: 192 개\n",
      "1: 301 개\n",
      "2: 300 개\n",
      "3: 300 개\n",
      "4: 300 개\n",
      "5: 300 개\n",
      "6: 300 개\n",
      "7: 300 개\n",
      "8: 300 개\n",
      "9: 300 개\n"
     ]
    }
   ],
   "source": [
    "result = []\n",
    "a = int(raw_input(\"what do you want to know?\"))\n",
    "for n in xrange(1, a+1):\n",
    "    for x in xrange(len(str(n))):\n",
    "        result.append(str(n)[x])\n",
    "    \n",
    "for i in xrange(0, 10):\n",
    "    print str(i) + ':', result.count(str(i)), \"개\""
   ]
  },
  {
   "cell_type": "code",
   "execution_count": null,
   "metadata": {
    "collapsed": true
   },
   "outputs": [],
   "source": []
  }
 ],
 "metadata": {
  "kernelspec": {
   "display_name": "Python 2",
   "language": "python",
   "name": "python2"
  },
  "language_info": {
   "codemirror_mode": {
    "name": "ipython",
    "version": 2
   },
   "file_extension": ".py",
   "mimetype": "text/x-python",
   "name": "python",
   "nbconvert_exporter": "python",
   "pygments_lexer": "ipython2",
   "version": "2.7.12"
  }
 },
 "nbformat": 4,
 "nbformat_minor": 1
}
